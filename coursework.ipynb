{
 "cells": [
  {
   "cell_type": "code",
   "execution_count": null,
   "id": "e09903a5",
   "metadata": {},
   "outputs": [],
   "source": [
    "%pip install numpy\n",
    "%pip install matplotlib \n",
    "%pip install -U scikit-learn\n",
    "%pip install -U tensorflow_datasets"
   ]
  },
  {
   "cell_type": "code",
   "execution_count": null,
   "id": "2e571c9b",
   "metadata": {},
   "outputs": [],
   "source": [
    "import tensorflow as tf\n",
    "from tensorflow import keras\n",
    "import numpy as np\n",
    "import matplotlib.pyplot as plt\n",
    "import tensorflow_datasets as tfds\n",
    "from sklearn.model_selection import train_test_split\n",
    "from time import time"
   ]
  },
  {
   "cell_type": "code",
   "execution_count": null,
   "id": "7a9efd26",
   "metadata": {},
   "outputs": [],
   "source": [
    "def plot_loss(history, optimiser, name):\n",
    "    plt.figure(figsize=(8, 6))\n",
    "    plt.plot(history.history['loss'], label='Training Loss')\n",
    "    plt.plot(history.history['val_loss'], label='Validation Loss')\n",
    "    plt.xlabel('Epoch')\n",
    "    plt.ylabel('Loss')\n",
    "    plt.legend()\n",
    "    plt.title(f'{name}: Training and Validation Loss using Optimiser {optimiser}')\n",
    "    plt.show()\n",
    "\n",
    "def compare_loss(history1, history2, label1, label2, name):\n",
    "    plt.figure(figsize=(8, 6))\n",
    "    plt.plot(history1.history['loss'], label=f'Training Loss ({label1})')\n",
    "    plt.plot(history1.history['val_loss'], label=f'Validation Loss ({label1})')\n",
    "    plt.plot(history2.history['loss'], label=f'Training Loss ({label2})', linestyle='--')\n",
    "    plt.plot(history2.history['val_loss'], label=f'Validation Loss ({label2})', linestyle='--')\n",
    "    plt.xlabel('Epoch')\n",
    "    plt.ylabel('Loss')\n",
    "    plt.legend()\n",
    "    plt.title(f'{name}: Training and Validation Loss Comparison')\n",
    "    plt.show()\n",
    "\n",
    "def compare_epoch_time(timings, label1, label2, name):\n",
    "    first_epochs = [i for i in range(1, len(timings / 2)+1)]\n",
    "    second_epochs = second_epochs\n",
    "    first_timing = timings[0:first_epochs-1]\n",
    "    second_timing = timings[10:-1]\n",
    "\n",
    "    plt.figure(figsize = (8,10))\n",
    "    plt.plot(first_epochs, first_timing, label=f'Epoch time: {label1}')\n",
    "    plt.plot(second_epochs, second_timing, label=f'Epoch time: {label2}', linestyle='--')\n",
    "    plt.xlabel('Epoch')\n",
    "    plt.ylabel('Time (s)')\n",
    "    plt.title(f'{name}: Epoch Execution Time Comparison')\n",
    "    plt.show()"
   ]
  },
  {
   "cell_type": "code",
   "execution_count": null,
   "id": "6b36caf7",
   "metadata": {},
   "outputs": [],
   "source": [
    "# Load and preprocess the MNIST dataset\n",
    "(x_train, y_train), (x_test, y_test) = keras.datasets.mnist.load_data()\n",
    "x_train, x_test = x_train / 255.0, x_test / 255.0\n",
    "y_train, y_test = keras.utils.to_categorical(y_train, 10), keras.utils.to_categorical(y_test, 10)"
   ]
  },
  {
   "cell_type": "code",
   "execution_count": null,
   "id": "74fee271",
   "metadata": {},
   "outputs": [],
   "source": [
    "\n",
    "# Define the model architecture\n",
    "deep_feed_forward_less_layers = keras.models.Sequential([\n",
    "    keras.layers.Input(shape=(28, 28)),\n",
    "    keras.layers.Flatten(),\n",
    "    keras.layers.Dense(128, activation='relu'),\n",
    "    keras.layers.Dense(64, activation='relu'),\n",
    "    keras.layers.Dense(10, activation='softmax')\n",
    "])\n",
    "\n",
    "deep_feed_forward_more_layers = keras.models.Sequential([\n",
    "    keras.layers.Input(shape=(28, 28)),\n",
    "    keras.layers.Flatten(),\n",
    "    keras.layers.Dense(512, activation='relu'),\n",
    "    keras.layers.Dense(256, activation='relu'),\n",
    "    keras.layers.Dense(128, activation='relu'),\n",
    "    keras.layers.Dense(64, activation='relu'),\n",
    "    keras.layers.Dense(10, activation='softmax')\n",
    "])\n",
    "\n",
    "DEEP_FORWARD_LESS_NAME = \"Deep Feed Forward (less layers/neutrones)\"\n",
    "DEEP_FORWARD_MORE_NAME = \"Deep Feed Forward (more layers/neutrones)\""
   ]
  },
  {
   "cell_type": "code",
   "execution_count": null,
   "id": "314174c9",
   "metadata": {},
   "outputs": [],
   "source": [
    "convulational_less_layers = keras.models.Sequential([\n",
    "    keras.layers.Input(shape=(28, 28, 1)),\n",
    "    keras.layers.Conv2D(16, kernel_size=(3, 3), activation='relu'),\n",
    "    keras.layers.MaxPooling2D(pool_size=(2, 2)),\n",
    "    keras.layers.Conv2D(32, kernel_size=(3, 3), activation='relu'),\n",
    "    keras.layers.MaxPooling2D(pool_size=(2, 2)),\n",
    "    keras.layers.Flatten(),\n",
    "    keras.layers.Dense(64, activation='relu'),\n",
    "    keras.layers.Dense(10, activation='softmax')\n",
    "])\n",
    "\n",
    "\n",
    "convulational_more_layers = keras.models.Sequential([\n",
    "    keras.layers.Input(shape=(28, 28, 1)),\n",
    "    keras.layers.Conv2D(32, kernel_size=(3, 3), activation='relu'),\n",
    "    keras.layers.MaxPooling2D(pool_size=(2, 2)),\n",
    "    keras.layers.Conv2D(64, kernel_size=(3, 3), activation='relu'),\n",
    "    keras.layers.MaxPooling2D(pool_size=(2, 2)),\n",
    "    keras.layers.Flatten(),\n",
    "    keras.layers.Dense(128, activation='relu'),\n",
    "    keras.layers.Dense(10, activation='softmax')\n",
    "])\n",
    "\n",
    "CONVULATIONAL_LESS_NAME = \"Convulational (less layers/neutrones)\"\n",
    "CONVULATIONAL_MORE_NAME = \"Convulational (more layers/neutrones)\""
   ]
  },
  {
   "cell_type": "code",
   "execution_count": null,
   "id": "9dac19ac",
   "metadata": {},
   "outputs": [],
   "source": [
    "# Adam optimiser\n",
    "legacy_adam = tf.compat.v1.train.AdamOptimizer()\n",
    "\n",
    "# Ada delta optimiser\n",
    "legacy_adadelta = tf.compat.v1.train.AdadeltaOptimizer()"
   ]
  },
  {
   "cell_type": "code",
   "execution_count": null,
   "id": "c803ad98",
   "metadata": {},
   "outputs": [],
   "source": [
    "class TimingCallback(tf.keras.callbacks.Callback):\n",
    "    \"\"\"Callback to record the timings and epoch\n",
    "\n",
    "    Args:\n",
    "        tf (Callback): Class callback.\n",
    "    \"\"\"\n",
    "    timings = []\n",
    "\n",
    "    def on_epoch_begin(self, epoch, logs=None):\n",
    "        self.start_time = time()\n",
    "\n",
    "    def on_epoch_end(self, epoch, logs=None):\n",
    "        epoch_time = time() - self.start_time\n",
    "        self.timings.append(epoch_time)\n",
    "\n",
    "    def get_timings(self):\n",
    "        timings = self.timings\n",
    "        return timings"
   ]
  },
  {
   "cell_type": "code",
   "execution_count": 121,
   "id": "2733d5dd",
   "metadata": {},
   "outputs": [
    {
     "name": "stdout",
     "output_type": "stream",
     "text": [
      " 737/1500 [=============>................] - ETA: 6s - loss: 1.3651 - accuracy: 0.7506"
     ]
    }
   ],
   "source": [
    "deep_feed_more_adam = deep_feed_forward_more_layers\n",
    "deep_feed_more_adadelta = deep_feed_forward_more_layers\n",
    "\n",
    "# Compile the model with the legacy optimizer\n",
    "\n",
    "deep_feed_more_adam.compile(optimizer=legacy_adam, loss='categorical_crossentropy', metrics=['accuracy'])\n",
    "deep_feed_more_adadelta.compile(optimizer=legacy_adadelta, loss='categorical_crossentropy', metrics=['accuracy'])\n",
    "\n",
    "timing_callback = TimingCallback()\n",
    "\n",
    "# Train the models\n",
    "history_adam = deep_feed_more_adam.fit(x_train, y_train, batch_size=32, epochs=10, validation_split=0.2, callbacks=[timing_callback])\n",
    "\n",
    "more_layers_epoch_time = timing_callback.get_timings()\n",
    "\n",
    "history_adadelta = deep_feed_more_adadelta.fit(x_train, y_train, batch_size=32, epochs=10, validation_split=0.2)\n"
   ]
  },
  {
   "cell_type": "code",
   "execution_count": null,
   "id": "e56b1f04",
   "metadata": {},
   "outputs": [],
   "source": [
    "plot_loss(history=history_adam, optimiser=\"Adam\", name=DEEP_FORWARD_MORE_NAME)\n",
    "plot_loss(history=history_adadelta, optimiser=\"adadelta\", name=DEEP_FORWARD_MORE_NAME)\n",
    "\n",
    "compare_loss(history1=history_adam, history2=history_adadelta, label1=\"Adam\", label2=\"Adadelta\", name=DEEP_FORWARD_MORE_NAME)"
   ]
  },
  {
   "cell_type": "code",
   "execution_count": null,
   "id": "9bbe2d5e",
   "metadata": {},
   "outputs": [],
   "source": [
    "deep_feed_less_adam = deep_feed_forward_less_layers\n",
    "deep_feed_less_adadelta = deep_feed_forward_less_layers\n",
    "\n",
    "# Compile the model with the legacy optimizer\n",
    "\n",
    "deep_feed_less_adam.compile(optimizer=legacy_adam, loss='categorical_crossentropy', metrics=['accuracy'])\n",
    "deep_feed_less_adadelta.compile(optimizer=legacy_adadelta, loss='categorical_crossentropy', metrics=['accuracy'])\n",
    "\n",
    "# Train the models\n",
    "history_adam = deep_feed_less_adam.fit(x_train, y_train, batch_size=32, epochs=10, validation_split=0.2, callbacks=[timing_callback])\n",
    "\n",
    "less_layers_epoch_times = timing_callback.get_timings()\n",
    "\n",
    "history_adadelta = deep_feed_less_adam.fit(x_train, y_train, batch_size=32, epochs=10, validation_split=0.2)\n"
   ]
  },
  {
   "cell_type": "code",
   "execution_count": null,
   "id": "ae716f56",
   "metadata": {},
   "outputs": [],
   "source": [
    "plot_loss(history=history_adam, optimiser=\"Adam\", name=DEEP_FORWARD_LESS_NAME)\n",
    "plot_loss(history=history_adadelta, optimiser=\"adadelta\", name=DEEP_FORWARD_LESS_NAME)\n",
    "\n",
    "compare_loss(history1=history_adam, history2=history_adadelta, label1=\"Adam\", label2=\"Adadelta\", name=DEEP_FORWARD_LESS_NAME)\n",
    "\n",
    "compare_epoch_time(less_layers_epoch_times, more_layers_epoch_time, \"Less Layers and Neurones\", \"More Layers and Neurones\", \"Layer and Neurone\")\n",
    "\n",
    "print (less_layers_epoch_times)\n",
    "\n",
    "print (more_layers_epoch_time)"
   ]
  },
  {
   "cell_type": "code",
   "execution_count": null,
   "id": "752bef91",
   "metadata": {},
   "outputs": [],
   "source": [
    "conv_more_layers_adam = convulational_more_layers\n",
    "conv_more_layers_adadelta = convulational_more_layers\n",
    "\n",
    "# Compile the model with the legacy optimizer\n",
    "conv_more_layers_adam.compile(optimizer=legacy_adam, loss='categorical_crossentropy', metrics=['accuracy'])\n",
    "conv_more_layers_adadelta.compile(optimizer=legacy_adadelta, loss='categorical_crossentropy', metrics=['accuracy'])\n",
    "\n",
    "# Train the models\n",
    "history_adam = conv_more_layers_adam.fit(x_train, y_train, batch_size=32, epochs=10, validation_split=0.2)\n",
    "history_adadelta = conv_more_layers_adadelta.fit(x_train, y_train, batch_size=32, epochs=10, validation_split=0.2)\n",
    "\n",
    "plot_loss(history=history_adam, optimiser=\"Adam\")\n",
    "plot_loss(history=history_adadelta, optimiser=\"Adam\")\n",
    "\n",
    "\n"
   ]
  }
 ],
 "metadata": {
  "kernelspec": {
   "display_name": "base",
   "language": "python",
   "name": "python3"
  },
  "language_info": {
   "codemirror_mode": {
    "name": "ipython",
    "version": 3
   },
   "file_extension": ".py",
   "mimetype": "text/x-python",
   "name": "python",
   "nbconvert_exporter": "python",
   "pygments_lexer": "ipython3",
   "version": "3.10.8"
  },
  "vscode": {
   "interpreter": {
    "hash": "a4debbbdd7c838b0ea21c041c76610ca3c659292951fddbf3860858b01f59855"
   }
  }
 },
 "nbformat": 4,
 "nbformat_minor": 5
}
